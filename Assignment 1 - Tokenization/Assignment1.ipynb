{
  "cells": [
    {
      "cell_type": "markdown",
      "metadata": {
        "id": "RKboZnAdgrRM"
      },
      "source": [
        "# [NLP] Assignment 1: Tokenization\n",
        "\n",
        "In this assignment, you need to tokenize the text of the Twitter(X) users posts(tweets). The assignment consists of two tasks. When you finish all the tasks, create a GitHub repository for this assignment (you can use this repo later for the other assignments) and submit this notebook in the repository. Leave `requirements.txt` file if your code requires additional installations. Submit the link to the repository in Moodle.\n",
        "\n",
        "The [data](https://drive.google.com/file/d/15x_wPAflvYQ2Xh38iNQGrqUIWLj5l5Nw/view?usp=share_link) contains 5 files whereby each contains 44 tweets. Each tweet is separated by a newline."
      ]
    },
    {
      "cell_type": "markdown",
      "metadata": {
        "id": "aLDjjAvemUP_"
      },
      "source": [
        "## Task 1. Tokenize some tweets manually (20 points)\n",
        "\n",
        "As a first task you need to tokenize first 15 tweets from `file2` by hand. This will allow you to understand the problem from a linguistic point of view. The guidelines for tweet tokenization are as follows:\n",
        "\n",
        "- Each smiley is a separate token\n",
        "- Each hashtag is an individual token. Each user reference is an individual token\n",
        "- If a word has spaces between them then it is converted to a single token\n",
        "- All punctuations are individual tokens. This includes double-quotes and single quotes also\n",
        "- A URL is a single token\n",
        "\n",
        "Example of output\n",
        "\n",
        "    Input tweet\n",
        "    @xfranman Old age has made N A T O!\n",
        "\n",
        "    Tokenized tweet (separated by comma)\n",
        "    @xfranman , Old , age , has , made , NATO , !"
      ]
    },
    {
      "cell_type": "markdown",
      "metadata": {
        "id": "7KKKwTidnzUw"
      },
      "source": [
        "\n",
        "    1. Input tweet \n",
        "    Camping in Maine for the weekend. Hey Dad, Mama Loves YOU: http://www.mamapalooza.com\n",
        "\n",
        "    1. Tokenized tweet\n",
        "    Camping , in , Maine , for , the , weekend , . , Hey , Dad , , , Mama , Loves , YOU , : , http://www.mamapalooza.com\n",
        "\n",
        "    2. Input tweet\n",
        "    Its american tradition bitch\n",
        "\n",
        "    2. Tokenized tweet\n",
        "    Its , american , tradition , bitch\n",
        "\n",
        "    3. Input tweet\n",
        "    @ThroughTheVoid They love it! The only pleasure they get in life. I actually do that. I'm sure I hear a tiny squeak... Then louder ones\n",
        "\n",
        "    3. Tokenized tweet\n",
        "    @ThroughTheVoid , They , love  , it , ! , The , only , pleasure , they , get , in , life , . , I , actually , do , that , . , I , ' , m , sure , I , hear , a , tiny , squeak , ... , Then , louder , ones\n",
        "\n",
        "    4. Input tweet\n",
        "    \" RT @latti: @AbsoHilare stop tweeting in church! Lol <--- \"\"I tweet because I'm happy, I tweet because I'm free\"\" LOL!\"\n",
        "\n",
        "    4. Tokenized tweet\n",
        "    \" , RT , @latti , : , @AbsoHilare , stop , tweeting , in , church , ! , Lol , < , - , - , - , \" , \" , I , tweet , because , I , ' , m , happy , , , I , tweet , because , I , ' , mfree , \" , \" , LOL , ! , \"\n",
        "\n",
        "    5. Input tweet\n",
        "    Samsung Mini S2 portable HDD graced with colors that perfectly match your tacky beach gear: Sammy's done it aga.. http://tinyurl.com/lb5p6m\n",
        "\n",
        "    5. Tokenized tweet\n",
        "    Samsung ,  Mini , S2 , portable , HDD , graced , with , colors , that , perfectly , match , your , tacky , beach , gear , : , Sammy , ' , sdone , it , aga , . , . , http://tinyurl.com/lb5p6m\n",
        "\n",
        "    6. Input tweet\n",
        "    @dialloc congrats on finding your way over. it may be slow going at first. hang in there. it's kinda cool when u get up to speed.\n",
        "\n",
        "    6. Tokenized tweet\n",
        "    @dialloc , congrats , on , finding , your , way , over , . , it , may , be , slow , going , at , first , . , hang , in , there , . , it , ', s , kinda , cool , when , u , get , up , to , speed , .\n",
        "\n",
        "    7. Input tweet\n",
        "    iPhone activation delays continue, Apple offers $30 http://twt.gs/l3Ki\n",
        "\n",
        "    7. Tokenized tweet\n",
        "    iPhone , activation , delays , continue , , , Apple , offers , $30 , http://twt.gs/l3Ki\n",
        "\n",
        "    8. Input tweet\n",
        "    RT @GoogleAtWork Gmail maximum attachment size now 25MB http://bit.ly/62mjw Nice!!!\n",
        "\n",
        "    8. Tokenized tweet\n",
        "    RT , @GoogleAtWork , Gmail , maximum , attachment , size , now , 25MB , http://bit.ly/62mjw , Nice , ! , ! , !\n",
        "\n",
        "    9. Input tweet\n",
        "    RT @acfou The Ads Won Awards for Crispin; But Did Nothing for Client BurgerKing's Sales/Marketshare - Big Surprise - http://ping.fm/vw8TI\n",
        "\n",
        "    9. Tokenized tweet\n",
        "    RT , @acfou , The , Ads , Won , Awards , for , Crispin , ; , But , Did , Nothing , for , Client , BurgerKing , ' , s , Sales , / , Marketshare , - , Big , Surprise , - , http://ping.fm/vw8TI\n",
        "\n",
        "    10. Input tweet\n",
        "    Hey doll! Great I missed True Blood yday boo lol Rt @FrankBanuat78 @jhillstephens Hello Sunshine how are u today? :-)\n",
        "\n",
        "    10. Tokenized tweet\n",
        "    Hey , doll , ! , Great , I , missed , True , Blood , yday , boo , lol , Rt , @FrankBanuat78 , @jhillstephens , Hello , Sunshine , how , are , u , today , ? , :-)\n",
        "\n",
        "    11. Input tweet\n",
        "    Australian artist Pogo made these free songs primarily from sampled audio from Alice In Wonderland. http://www.last.fm/music/Pogo/Wonderland\n",
        "\n",
        "    11. Tokenized tweet\n",
        "    Australian , artist , Pogo , made , these , free , songs , primarily , from , sampled , audio , from , Alice , In , Wonderland , . , http://www.last.fm/music/Pogo/Wonderland\n",
        "\n",
        "    12. Input tweet\n",
        "    @mppritchard they wanted to sell all the preorders & then sell all of the ones they had in stock to those that just walked in. Can't do both\n",
        "\n",
        "    12. Tokenized tweet\n",
        "    @mppritchard , they , wanted , to , sell , all , the , preorders , & , then , sell , all , of , the , ones , they , had , in , stock , to , those , that , just , walked , in , . , Can , ' , t , do , both\n",
        "\n",
        "    13. Input tweet\n",
        "    Incoming: Frightened Rabbit, Sept. 22 (Tucson): If Fat Cat Records is going to send three great bands from Scot.. http://tinyurl.com/nz6xcv\n",
        "\n",
        "    13. Tokenized tweet\n",
        "    Incoming , : , Frightened , Rabbit , , Sept. , 22 , ( , Tucson , ) , : , If , Fat , Cat , Records , is , going , to , send , three , great , bands , from , Scot , . , . , http://tinyurl.com/nz6xcv\n",
        "\n",
        "    14. Input tweet\n",
        "    Hey @ginoandfran please greet philip! (GinoandFran live > http://ustre.am/2YyQ)\n",
        "\n",
        "    14. Tokenized tweet\n",
        "    Hey , @ginoandfran , please , greet , philip , ! , ( , GinoandFran , live , > , http://ustre.am/2YyQ , )\n",
        "\n",
        "    15. Input tweet\n",
        "    Ik weet niet wie er achter de T-Mobile iPhone Twitter zit maar ik vind het niet echt 'corporate' taalgebruik... Best vreemd eigenlijk\n",
        "\n",
        "    15. Tokenized tweet\n",
        "    Ik , weet , niet , wie , er , achter , de , T ,- , Mobile , iPhone , Twitter , zit , maar , ik , vind , het , niet , echt , ' , corporate , ' , taalgebruik , ... , Best , vreemd , eigenlijk"
      ]
    },
    {
      "cell_type": "markdown",
      "metadata": {
        "id": "-2J2AD2nmUhi"
      },
      "source": [
        "## Task 2. Implement [Byte-Pair Encoding(BPE)](https://arxiv.org/pdf/1508.07909.pdf) Tokenizer (80 points)\n",
        "\n",
        "### Task 2.1. Implementation (60 points)\n",
        "\n",
        "Implement the tokenizer as the BPETokenizer class:\n",
        "* Implement `train` method that learns merges and builds the vocabulary of the specified `vocab_size` (25 points).\n",
        "* Implement `tokenize` method that should tokenize the text according to the learnt merges (25 points).\n",
        "\n",
        "Your code should have docstrings and comments (10 points)."
      ]
    },
    {
      "cell_type": "code",
      "execution_count": 1,
      "metadata": {},
      "outputs": [],
      "source": [
        "from collections import Counter\n",
        "\n",
        "class BPETokenizer:\n",
        "    def __init__(self, vocab_size):\n",
        "        \"\"\"\n",
        "        Initializes the tokenizer with an empty vocabulary, merges, and sets the target vocabulary size.\n",
        "        \n",
        "        Args:\n",
        "        - vocab_size (int): The desired vocabulary size.\n",
        "        \"\"\"\n",
        "        self.vocab_size = vocab_size\n",
        "        self.vocab = {}\n",
        "        self.merges = []\n",
        "\n",
        "    def train(self, texts):\n",
        "        \"\"\"\n",
        "        Train the tokenizer on the given texts to learn merges until the vocabulary reaches the specified size.\n",
        "        \n",
        "        Args:\n",
        "        - texts (list of str): The list of string texts to train the tokenizer on.\n",
        "        \"\"\"\n",
        "        # Initialize token frequencies and pairs\n",
        "        word_freqs = self._init_word_freqs(texts)\n",
        "        pair_freqs = self._init_pair_freqs(word_freqs)\n",
        "\n",
        "        while len(self.vocab) < self.vocab_size:\n",
        "            if not pair_freqs:\n",
        "                break\n",
        "            best_pair = max(pair_freqs, key=pair_freqs.get)\n",
        "            if pair_freqs[best_pair] < 1:\n",
        "                break\n",
        "\n",
        "            self._merge_best_pair(best_pair, word_freqs, pair_freqs)\n",
        "            self.vocab[''.join(best_pair)] = len(self.vocab)\n",
        "            self.merges.append(best_pair)\n",
        "\n",
        "    def _init_word_freqs(self, texts):\n",
        "        \"\"\"\n",
        "        Initialize word frequencies from the input texts.\n",
        "        \n",
        "        This function converts each word in the input texts into a sequence of characters\n",
        "        (including a special end-of-word token '</w>') and counts their occurrences.\n",
        "        \n",
        "        Args:\n",
        "        - texts (list of str): The input texts to process.\n",
        "        \n",
        "        Returns:\n",
        "        - Counter: A counter object mapping each word (as a sequence of characters and an end-of-word token)\n",
        "                to its frequency in the input texts.\n",
        "        \"\"\"\n",
        "        word_freqs = Counter()\n",
        "        for text in texts:\n",
        "            words = text.strip().split()\n",
        "            for word in words:\n",
        "                # Add a space between each character and append the end-of-word token '</w>'\n",
        "                word = ' '.join(list(word) + ['</w>'])\n",
        "                word_freqs[word] += 1\n",
        "        return word_freqs\n",
        "\n",
        "    def _init_pair_freqs(self, word_freqs):\n",
        "        \"\"\"\n",
        "        Initialize the frequencies of adjacent character pairs in words.\n",
        "        \n",
        "        This function calculates the frequency of each adjacent character pair across all words,\n",
        "        considering the word frequencies to weight the pair frequencies.\n",
        "        \n",
        "        Args:\n",
        "        - word_freqs (Counter): A counter object mapping words (as sequences of characters) to their frequencies.\n",
        "        \n",
        "        Returns:\n",
        "        - Counter: A counter object mapping each pair of adjacent characters to its total frequency across all words.\n",
        "        \"\"\"\n",
        "        pair_freqs = Counter()\n",
        "        for word, freq in word_freqs.items():\n",
        "            symbols = word.split()\n",
        "            for i in range(len(symbols) - 1):\n",
        "                # Count each adjacent pair of symbols (characters or tokens), weighted by the word's frequency\n",
        "                pair_freqs[symbols[i], symbols[i + 1]] += freq\n",
        "        return pair_freqs\n",
        "\n",
        "    def _merge_best_pair(self, best_pair, word_freqs, pair_freqs):\n",
        "        \"\"\"\n",
        "        Merge the most frequent adjacent character pair in all words, updating word and pair frequencies.\n",
        "        \n",
        "        This function replaces occurrences of the most frequent pair with their merged form in each word,\n",
        "        then recalculates word frequencies and pair frequencies to reflect the merge.\n",
        "        \n",
        "        Args:\n",
        "        - best_pair (tuple): The most frequent pair of adjacent characters to merge.\n",
        "        - word_freqs (Counter): A counter of word frequencies to update.\n",
        "        - pair_freqs (Counter): A counter of pair frequencies to update.\n",
        "        \"\"\"\n",
        "        new_word_freqs = Counter()\n",
        "        for word, freq in word_freqs.items():\n",
        "            # Replace the best pair with their merged form in each word\n",
        "            new_word = word.replace(' '.join(best_pair), ''.join(best_pair))\n",
        "            new_word_freqs[new_word] += freq\n",
        "        \n",
        "        # Update the original word frequencies with the new ones\n",
        "        word_freqs.clear()\n",
        "        word_freqs.update(new_word_freqs)\n",
        "\n",
        "        # Recalculate pair frequencies based on the updated word frequencies\n",
        "        pair_freqs.clear()\n",
        "        pair_freqs.update(self._init_pair_freqs(word_freqs))\n",
        "\n",
        "\n",
        "    def tokenize(self, text):\n",
        "        \"\"\"\n",
        "        Tokenize the input text based on learned merges.\n",
        "        \n",
        "        Args:\n",
        "        - text (str): The text to tokenize.\n",
        "        \n",
        "        Returns:\n",
        "        - List[str]: A list of tokens.\n",
        "        \"\"\"\n",
        "        # Initial tokenization into characters\n",
        "        tokens = list(text)\n",
        "        for merge_pair in self.merges:\n",
        "            new_token = ''.join(merge_pair)\n",
        "            i = 0\n",
        "            while i < len(tokens) - 1:\n",
        "                if tokens[i] == merge_pair[0] and tokens[i+1] == merge_pair[1]:\n",
        "                    tokens = tokens[:i] + [new_token] + tokens[i+2:]\n",
        "                else:\n",
        "                    i += 1\n",
        "        return tokens"
      ]
    },
    {
      "cell_type": "markdown",
      "metadata": {},
      "source": [
        "### Task 2.2. Analysis on Tweets Dataset (10 points)\n",
        "\n",
        "Train the BPE tokenizer on the tweets dataset. Try to tokenize the tweets with the tokenizer of different `vocab_size`. For example, train the BPE tokenizer with `vocab_size` of [base_vocab_size, 250, 500, 750, 1000]. Plot the dependency of the average length of the tokenized tweet by `vocab_size` to analyze how `vocab_size` affects the length of the tokenized tweet on average. Tell what `vocab_size` is preferrable and why."
      ]
    },
    {
      "cell_type": "code",
      "execution_count": 2,
      "metadata": {},
      "outputs": [
        {
          "name": "stdout",
          "output_type": "stream",
          "text": [
            "220\n"
          ]
        }
      ],
      "source": [
        "import os\n",
        "\n",
        "folder_path = 'data'\n",
        "\n",
        "tweets = []\n",
        "\n",
        "for f in os.listdir(folder_path):\n",
        "    file_path = os.path.join(folder_path, f)\n",
        "    if os.path.isfile(file_path):\n",
        "        with open(file_path, 'r', encoding='utf-8') as file:\n",
        "            lines = file.readlines()\n",
        "            tweets.extend([line.strip() for line in lines])  # Strip removes trailing newline\n",
        "            \n",
        "print(len(tweets))"
      ]
    },
    {
      "cell_type": "code",
      "execution_count": 3,
      "metadata": {},
      "outputs": [
        {
          "name": "stdout",
          "output_type": "stream",
          "text": [
            "167\n"
          ]
        }
      ],
      "source": [
        "# Counting the total number of unique characters in the tweets\n",
        "chars = Counter()\n",
        "for tweet in tweets:\n",
        "    chars.update(tweet)\n",
        "    \n",
        "    \n",
        "base_vocab_size = len(chars)    \n",
        "print(base_vocab_size)"
      ]
    },
    {
      "cell_type": "code",
      "execution_count": 4,
      "metadata": {},
      "outputs": [],
      "source": [
        "vocab_sizes = [base_vocab_size, 250, 500, 750, 1000]\n",
        "\n",
        "\n",
        "average_lengths = []\n",
        "\n",
        "for vocab_size in vocab_sizes:    \n",
        "    tokenizer = BPETokenizer(vocab_size=vocab_size)\n",
        "    tokenizer.train(tweets)\n",
        "        \n",
        "    tokenized_tweets = []\n",
        "    \n",
        "    for tweet in tweets:\n",
        "        tokens = tokenizer.tokenize(tweet)\n",
        "        tokenized_tweets.append(tokens)\n",
        "\n",
        "    # Calculate average length of tokenized tweets\n",
        "    avg_length = sum([len(tokens) for tokens in tokenized_tweets]) / len(tokenized_tweets)\n",
        "    \n",
        "    average_lengths.append(avg_length)"
      ]
    },
    {
      "cell_type": "code",
      "execution_count": 5,
      "metadata": {},
      "outputs": [
        {
          "data": {
            "image/png": "[encoded data removed]",
            "text/plain": [
              "<Figure size 640x480 with 1 Axes>"
            ]
          },
          "metadata": {},
          "output_type": "display_data"
        }
      ],
      "source": [
        "import matplotlib.pyplot as plt\n",
        "\n",
        "# Plot the results\n",
        "plt.plot(vocab_sizes, average_lengths)\n",
        "plt.xlabel('Vocabulary size')\n",
        "plt.ylabel('Average tweet length')\n",
        "plt.title('Average tweet length by vocabulary size')\n",
        "plt.show()"
      ]
    },
    {
      "cell_type": "markdown",
      "metadata": {},
      "source": [
        "From the previous geaph, we can see that the average length of the tokenized tweet is decreasing with the increase of the `vocab_size`. This is because the more merges we have, the more tokens we can represent with the same number of merges. This means that the average length of the tokenized tweet will be shorter. However, the decrease of the average length of the tokenized tweet is not significant after the `vocab_size` of 500. Therefore, the `vocab_size` of 500 is preferrable because it gives a good balance between the average length of the tokenized tweet and the number of merges."
      ]
    },
    {
      "cell_type": "markdown",
      "metadata": {},
      "source": [
        "### Task 2.3. Analysis on Dataset of Different Language (10 points)\n",
        "\n",
        "Find a small dataset of texts in a language other than English. The dataset size should be not greater than several megabytes.\n",
        "\n",
        "Train the BPE tokenizer on the dataset that you found. Try to tokenize the sentences from this dataset with the tokenizer of different `vocab_size`. Plot the dependency of the average length of the tokenized sentence by `vocab_size` to analyze how `vocab_size` affects the length of the tokenized sentence on average.\n",
        "\n",
        "Tell how the average length of the tokenized sentence differs from the average length of the tokenized tweet. Explain why. "
      ]
    },
    {
      "cell_type": "markdown",
      "metadata": {},
      "source": [
        "For this task, I will be using the 'udhr' dataset from the nltk library. The 'udhr' dataset contains the Universal Declaration of Human Rights in over 300 languages. I will be using the 'udhr' dataset in the French language."
      ]
    },
    {
      "cell_type": "code",
      "execution_count": 6,
      "metadata": {},
      "outputs": [
        {
          "name": "stderr",
          "output_type": "stream",
          "text": [
            "[nltk_data] Downloading package udhr to\n",
            "[nltk_data]     C:\\Users\\mosta\\AppData\\Roaming\\nltk_data...\n",
            "[nltk_data]   Package udhr is already up-to-date!\n"
          ]
        },
        {
          "data": {
            "text/plain": [
              "True"
            ]
          },
          "execution_count": 6,
          "metadata": {},
          "output_type": "execute_result"
        }
      ],
      "source": [
        "import nltk\n",
        "\n",
        "nltk.download('udhr')"
      ]
    },
    {
      "cell_type": "code",
      "execution_count": 7,
      "metadata": {},
      "outputs": [
        {
          "name": "stdout",
          "output_type": "stream",
          "text": [
            "Déclaration universelle des droits de l'homme\n",
            "Préambule\n",
            "Considérant que la reconnaissance de la dignité inhérente à tous les membres de la famille humaine et de leurs droits égaux et inaliénables constitue le fondement de la liberté, de la justice et de la paix dans le monde, \n",
            "\n",
            "Considérant que la méconnaissance et le mépris des droits de l'homme ont conduit à des actes de barbarie qui révoltent la conscience de l'humanité et que l'avènement d'un monde où les êtres humains seront libres de parler et de croire, libérés de la terreur et de la misère, a été proclamé comme la plus haute aspiration de l'homme, \n",
            "\n",
            "Considérant qu'il est essentiel que les droits de l'homme soient protégés par un régime de droit pour que l'homme ne soit pas contraint, en suprême recours, à la révolte contre la tyrannie et l'oppression, \n",
            "\n",
            "Considérant qu'il est essentiel d'encourager le développement de relations amicales entre nations, \n",
            "\n",
            "Considérant que dans la Charte les peuples des Nations Unies ont proclamé à n\n"
          ]
        }
      ],
      "source": [
        "from nltk.corpus import udhr\n",
        "\n",
        "# Get the Universal Declaration of Human Rights corpus in French\n",
        "text = udhr.raw('French_Francais-Latin1')\n",
        "\n",
        "print(text[:1000])"
      ]
    },
    {
      "cell_type": "code",
      "execution_count": 8,
      "metadata": {},
      "outputs": [
        {
          "name": "stdout",
          "output_type": "stream",
          "text": [
            "61\n"
          ]
        }
      ],
      "source": [
        "# Count the total number of unique characters in the French UDHR corpus\n",
        "chars = Counter(text)\n",
        "\n",
        "base_vocab_size = len(chars)\n",
        "\n",
        "print(base_vocab_size)"
      ]
    },
    {
      "cell_type": "code",
      "execution_count": 9,
      "metadata": {},
      "outputs": [],
      "source": [
        "vocab_size = [base_vocab_size, 250, 500, 750, 1000]\n",
        "\n",
        "average_lengths = []\n",
        "\n",
        "for vocab_size in vocab_sizes:\n",
        "    tokenizer = BPETokenizer(vocab_size=vocab_size)\n",
        "    tokenizer.train([text])\n",
        "        \n",
        "    tokenized_text = tokenizer.tokenize(text)\n",
        "    \n",
        "    avg_length = len(tokenized_text)\n",
        "    \n",
        "    average_lengths.append(avg_length)"
      ]
    },
    {
      "cell_type": "code",
      "execution_count": 10,
      "metadata": {},
      "outputs": [
        {
          "data": {
            "image/png": "[encoded data removed]",
            "text/plain": [
              "<Figure size 640x480 with 1 Axes>"
            ]
          },
          "metadata": {},
          "output_type": "display_data"
        }
      ],
      "source": [
        "# Plotting the results\n",
        "plt.plot(vocab_sizes, average_lengths)\n",
        "plt.xlabel('Vocabulary size')\n",
        "plt.ylabel('Average text length')\n",
        "plt.title('Average text length by vocabulary size')\n",
        "plt.show()"
      ]
    },
    {
      "cell_type": "markdown",
      "metadata": {},
      "source": [
        "From the previous graph, we can see that the average length of the tokenized text is decreasing with the increase of the `vocab_size`. This is because the more merges we have, the more tokens we can represent with the same number of merges. This means that the average length of the tokenized text will be shorter. However, the decrease of the average length of the tokenized text is not significant after the `vocab_size` of 500. Therefore, the `vocab_size` of 500 is preferrable because it gives a good balance between the average length of the tokenized text and the number of merges."
      ]
    }
  ],
  "metadata": {
    "colab": {
      "provenance": [],
      "toc_visible": true
    },
    "kernelspec": {
      "display_name": "Python 3",
      "name": "python3"
    },
    "language_info": {
      "codemirror_mode": {
        "name": "ipython",
        "version": 3
      },
      "file_extension": ".py",
      "mimetype": "text/x-python",
      "name": "python",
      "nbconvert_exporter": "python",
      "pygments_lexer": "ipython3",
      "version": "3.9.13"
    }
  },
  "nbformat": 4,
  "nbformat_minor": 0
}
